{
 "cells": [
  {
   "cell_type": "code",
   "execution_count": 1,
   "metadata": {},
   "outputs": [
    {
     "name": "stdout",
     "output_type": "stream",
     "text": [
      "   battery_power  blue  clock_speed  dual_sim  fc  four_g  int_memory  m_dep  \\\n",
      "0            842     0          2.2         0   1       0           7    0.6   \n",
      "1           1021     1          0.5         1   0       1          53    0.7   \n",
      "2            563     1          0.5         1   2       1          41    0.9   \n",
      "3            615     1          2.5         0   0       0          10    0.8   \n",
      "4           1821     1          1.2         0  13       1          44    0.6   \n",
      "\n",
      "   mobile_wt  n_cores  ...  px_height  px_width   ram  sc_h  sc_w  talk_time  \\\n",
      "0        188        2  ...         20       756  2549     9     7         19   \n",
      "1        136        3  ...        905      1988  2631    17     3          7   \n",
      "2        145        5  ...       1263      1716  2603    11     2          9   \n",
      "3        131        6  ...       1216      1786  2769    16     8         11   \n",
      "4        141        2  ...       1208      1212  1411     8     2         15   \n",
      "\n",
      "   three_g  touch_screen  wifi  price_range  \n",
      "0        0             0     1            1  \n",
      "1        1             1     0            2  \n",
      "2        1             1     0            2  \n",
      "3        1             0     0            2  \n",
      "4        1             1     0            1  \n",
      "\n",
      "[5 rows x 21 columns]\n",
      "\n",
      "Features:\n",
      "   battery_power  blue  clock_speed  dual_sim  fc  four_g  int_memory  m_dep  \\\n",
      "0            842     0          2.2         0   1       0           7    0.6   \n",
      "1           1021     1          0.5         1   0       1          53    0.7   \n",
      "2            563     1          0.5         1   2       1          41    0.9   \n",
      "3            615     1          2.5         0   0       0          10    0.8   \n",
      "4           1821     1          1.2         0  13       1          44    0.6   \n",
      "\n",
      "   mobile_wt  n_cores  pc  px_height  px_width   ram  sc_h  sc_w  talk_time  \\\n",
      "0        188        2   2         20       756  2549     9     7         19   \n",
      "1        136        3   6        905      1988  2631    17     3          7   \n",
      "2        145        5   6       1263      1716  2603    11     2          9   \n",
      "3        131        6   9       1216      1786  2769    16     8         11   \n",
      "4        141        2  14       1208      1212  1411     8     2         15   \n",
      "\n",
      "   three_g  touch_screen  wifi  \n",
      "0        0             0     1  \n",
      "1        1             1     0  \n",
      "2        1             1     0  \n",
      "3        1             0     0  \n",
      "4        1             1     0  \n",
      "\n",
      "Target:\n",
      "0    1\n",
      "1    2\n",
      "2    2\n",
      "3    2\n",
      "4    1\n",
      "Name: price_range, dtype: int64\n"
     ]
    }
   ],
   "source": [
    "#Read the data with pandas and find features and target variables\n",
    "import pandas as pd\n",
    "\n",
    "# Load the dataset\n",
    "data = pd.read_csv('train.csv')\n",
    "\n",
    "# Display the first few rows of the dataset\n",
    "print(data.head())\n",
    "\n",
    "# Identify features and target variable\n",
    "features = data.drop('price_range', axis=1)\n",
    "target = data['price_range']\n",
    "\n",
    "print(\"\\nFeatures:\")\n",
    "print(features.head())\n",
    "print(\"\\nTarget:\")\n",
    "print(target.head())"
   ]
  },
  {
   "cell_type": "code",
   "execution_count": 3,
   "metadata": {},
   "outputs": [
    {
     "name": "stdout",
     "output_type": "stream",
     "text": [
      "\n",
      "Scaled Features:\n",
      "   battery_power  blue  clock_speed  dual_sim        fc  four_g  int_memory  \\\n",
      "0       0.227789   0.0         0.68       0.0  0.052632     0.0    0.080645   \n",
      "1       0.347361   1.0         0.00       1.0  0.000000     1.0    0.822581   \n",
      "2       0.041416   1.0         0.00       1.0  0.105263     1.0    0.629032   \n",
      "3       0.076152   1.0         0.80       0.0  0.000000     0.0    0.129032   \n",
      "4       0.881764   1.0         0.28       0.0  0.684211     1.0    0.677419   \n",
      "\n",
      "      m_dep  mobile_wt   n_cores    pc  px_height  px_width       ram  \\\n",
      "0  0.555556   0.900000  0.142857  0.10   0.010204  0.170895  0.612774   \n",
      "1  0.666667   0.466667  0.285714  0.30   0.461735  0.993324  0.634687   \n",
      "2  0.888889   0.541667  0.571429  0.30   0.644388  0.811749  0.627205   \n",
      "3  0.777778   0.425000  0.714286  0.45   0.620408  0.858478  0.671566   \n",
      "4  0.555556   0.508333  0.142857  0.70   0.616327  0.475300  0.308658   \n",
      "\n",
      "       sc_h      sc_w  talk_time  three_g  touch_screen  wifi  \n",
      "0  0.285714  0.388889   0.944444      0.0           0.0   1.0  \n",
      "1  0.857143  0.166667   0.277778      1.0           1.0   0.0  \n",
      "2  0.428571  0.111111   0.388889      1.0           1.0   0.0  \n",
      "3  0.785714  0.444444   0.500000      1.0           0.0   0.0  \n",
      "4  0.214286  0.111111   0.722222      1.0           1.0   0.0  \n"
     ]
    }
   ],
   "source": [
    "#Normalize the data with min-max scaling\n",
    "from sklearn.preprocessing import MinMaxScaler\n",
    "\n",
    "# Initialize the scaler\n",
    "scaler = MinMaxScaler()\n",
    "\n",
    "# Fit and transform the features\n",
    "scaled_features = scaler.fit_transform(features)\n",
    "\n",
    "# Convert the scaled features back to a DataFrame\n",
    "scaled_features_df = pd.DataFrame(scaled_features, columns=features.columns)\n",
    "\n",
    "print(\"\\nScaled Features:\")\n",
    "print(scaled_features_df.head())"
   ]
  },
  {
   "cell_type": "code",
   "execution_count": 4,
   "metadata": {},
   "outputs": [
    {
     "name": "stdout",
     "output_type": "stream",
     "text": [
      "\n",
      "Train set shape: (1600, 20) (1600,)\n",
      "Test set shape: (400, 20) (400,)\n"
     ]
    }
   ],
   "source": [
    "#Split the data into train and test\n",
    "from sklearn.model_selection import train_test_split\n",
    "\n",
    "# Split the data into train and test sets\n",
    "X_train, X_test, y_train, y_test = train_test_split(scaled_features_df, target, test_size=0.2, random_state=42)\n",
    "\n",
    "print(\"\\nTrain set shape:\", X_train.shape, y_train.shape)\n",
    "print(\"Test set shape:\", X_test.shape, y_test.shape)"
   ]
  },
  {
   "cell_type": "code",
   "execution_count": 5,
   "metadata": {},
   "outputs": [
    {
     "name": "stdout",
     "output_type": "stream",
     "text": [
      "Mean Squared Error: 0.0717505\n",
      "R-squared: 0.9462238440314973\n"
     ]
    }
   ],
   "source": [
    "import pandas as pd\n",
    "from sklearn.model_selection import train_test_split\n",
    "from sklearn.preprocessing import StandardScaler\n",
    "from sklearn.ensemble import RandomForestRegressor\n",
    "from sklearn.metrics import mean_squared_error, r2_score\n",
    "\n",
    "# Step 1: Read the data\n",
    "data = pd.read_csv('/workspaces/AIML_2024_ASSIGNMENTT/train.csv')\n",
    "\n",
    "# Step 2: Preprocess the data (if necessary)\n",
    "# In this case, we don't need to preprocess much since the data is already cleaned.\n",
    "\n",
    "# Step 3: Separate features and target variable\n",
    "X = data.drop('price_range', axis=1)  # Features\n",
    "y = data['price_range']  # Target variable\n",
    "\n",
    "# Step 4: Split the data into train and test sets\n",
    "X_train, X_test, y_train, y_test = train_test_split(X, y, test_size=0.2, random_state=42)\n",
    "\n",
    "# Step 5: Choose a model, train it, and evaluate its performance\n",
    "# In this case, let's use a Random Forest Regressor\n",
    "model = RandomForestRegressor(n_estimators=100, random_state=42)\n",
    "\n",
    "# Scale features\n",
    "scaler = StandardScaler()\n",
    "X_train_scaled = scaler.fit_transform(X_train)\n",
    "X_test_scaled = scaler.transform(X_test)\n",
    "\n",
    "# Train the model\n",
    "model.fit(X_train_scaled, y_train)\n",
    "\n",
    "# Make predictions\n",
    "predictions = model.predict(X_test_scaled)\n",
    "\n",
    "# Evaluate the model\n",
    "mse = mean_squared_error(y_test, predictions)\n",
    "r2 = r2_score(y_test, predictions)\n",
    "\n",
    "print(\"Mean Squared Error:\", mse)\n",
    "print(\"R-squared:\", r2)"
   ]
  }
 ],
 "metadata": {
  "kernelspec": {
   "display_name": "Python 3",
   "language": "python",
   "name": "python3"
  },
  "language_info": {
   "codemirror_mode": {
    "name": "ipython",
    "version": 3
   },
   "file_extension": ".py",
   "mimetype": "text/x-python",
   "name": "python",
   "nbconvert_exporter": "python",
   "pygments_lexer": "ipython3",
   "version": "3.10.13"
  }
 },
 "nbformat": 4,
 "nbformat_minor": 2
}
